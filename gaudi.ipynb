{
 "cells": [
  {
   "cell_type": "code",
   "execution_count": 22,
   "metadata": {},
   "outputs": [],
   "source": [
    "import numpy as np\n",
    "import pandas as pd\n",
    "import scipy.stats as ss\n",
    "import matplotlib.pyplot as plt\n",
    "from CB_02704 import *\n",
    "path = \"../02704_data\""
   ]
  },
  {
   "cell_type": "markdown",
   "metadata": {},
   "source": [
    "### LOAD IN ALL DATAFILES\n",
    "\n",
    "1. geno files -> unphased genotype files with 0, 1, 2, or 9 for missing values\n",
    "2. geno1 -> phased genotype file for haplotype 1, obtained from simulate_geno_pheno.ipynb by converting unphased to phased data\n",
    "3. geno2 -> phased genotype file for haplotype 2, obtained in same fashion as geno1\n",
    "4. ancs1 -> predicted local ancestry for snp i and individual j at haplotype 1, prediction done using flare software\n",
    "5. ancs2 -> predicted local ancestry for snp i and individual j at haplotype 2, prediction done using flare software"
   ]
  },
  {
   "cell_type": "code",
   "execution_count": 23,
   "metadata": {},
   "outputs": [],
   "source": [
    "ceu_geno = np.load(\"geno_files/ceu_geno.npy\")\n",
    "yri_geno = np.load(\"geno_files/yri_geno.npy\")\n",
    "asw_geno = np.load(\"geno_files/asw_geno.npy\")\n",
    "sim_geno = np.load(\"geno_files/sim_geno.npy\")\n",
    "\n",
    "ceu_geno = np.ma.masked_array(ceu_geno)\n",
    "yri_geno = np.ma.masked_array(yri_geno)\n",
    "asw_geno = np.ma.masked_array(asw_geno)\n",
    "sim_geno = np.ma.masked_array(sim_geno)\n",
    "\n",
    "\n",
    "ceu_snp = read_snp(f\"{path}/ceu.snp\")\n",
    "ceu_snp = ceu_snp.drop_duplicates(subset=\"position\", keep=False)\n",
    "\n",
    "\n",
    "asw_geno1 = np.load(\"asw_geno1.npy\")\n",
    "asw_geno2 = np.load(\"asw_geno2.npy\")\n",
    "asw_ancs1 = np.load(\"asw_ancs1.npy\")\n",
    "asw_ancs2 = np.load(\"asw_ancs2.npy\")\n",
    "asw_snps = np.load(\"asw_snps.npy\")\n",
    "\n",
    "\n",
    "sim_geno1 = np.load(\"sim_geno1.npy\")\n",
    "sim_geno2 = np.load(\"sim_geno2.npy\")\n",
    "sim_ancs1 = np.load(\"sim_ancs1.npy\")\n",
    "sim_ancs2 = np.load(\"sim_ancs2.npy\")\n",
    "sim_snps = np.load(\"sim_snps.npy\")\n",
    "\n",
    "asw_geno1 = np.ma.masked_array(asw_geno1)\n",
    "asw_geno2 = np.ma.masked_array(asw_geno2)"
   ]
  },
  {
   "cell_type": "code",
   "execution_count": 24,
   "metadata": {},
   "outputs": [
    {
     "name": "stdout",
     "output_type": "stream",
     "text": [
      "(684252, 1)\n",
      "(684252, 49)\n"
     ]
    }
   ],
   "source": [
    "print(np.shape(asw_snps))\n",
    "print(np.shape(asw_geno1))"
   ]
  },
  {
   "cell_type": "code",
   "execution_count": 25,
   "metadata": {},
   "outputs": [],
   "source": [
    "asw_geno = np.zeros(np.shape(asw_geno1))\n",
    "for i in range(len(asw_geno1)):\n",
    "    print(i)\n",
    "    for j in range(len(asw_geno1[i])):\n",
    "        if asw_geno1[i,j] == 1 and asw_geno2[i,j] == 1:\n",
    "            asw_geno[i,j] = 2\n",
    "        elif asw_geno1[i,j] == 0 and asw_geno2[i,j] == 1:\n",
    "            asw_geno[i,j] = 1\n",
    "        elif asw_geno1[i,j] == 1 and asw_geno2[i,j] == 0:\n",
    "            asw_geno[i,j] = 1\n",
    "asw_geno = np.ma.masked_array(asw_geno)"
   ]
  },
  {
   "cell_type": "markdown",
   "metadata": {},
   "source": [
    "### DISEASE SNPS"
   ]
  },
  {
   "cell_type": "code",
   "execution_count": 39,
   "metadata": {},
   "outputs": [],
   "source": [
    "def simulate_effect_sizes(n_snps):\n",
    "    effect_sizes = np.zeros((2, 10 * n_snps))\n",
    "    disease_effect_sizes_pop1 = np.abs(np.random.randn(n_snps))\n",
    "    disease_effect_sizes_pop2 = np.abs(np.random.randn(n_snps))\n",
    "    effect_sizes[0, :n_snps] = disease_effect_sizes_pop1\n",
    "    effect_sizes[1, :n_snps] = disease_effect_sizes_pop2\n",
    "    return effect_sizes\n",
    "\n",
    "def get_disease_snp_indices(disease_name):\n",
    "    disease = pd.read_csv(f\"{disease_name}.tsv\", sep=\"\\t\")\n",
    "    disease_snps = np.intersect1d(asw_snps, disease[\"SNPS\"])\n",
    "\n",
    "    disease_snp_indices = []\n",
    "    for snp in disease_snps:\n",
    "        \n",
    "        index = np.where(asw_snps == snp)[0][0]\n",
    "        disease_snp_indices.append(index)\n",
    "    disease_snp_indices = sorted(disease_snp_indices)\n",
    "\n",
    "    non_causal_snps = np.random.choice(len(asw_snps), 10 * len(disease_snp_indices) - len(disease_snp_indices), replace=False)\n",
    "    non_causal_snps = sorted(non_causal_snps)\n",
    "    for snp in non_causal_snps:\n",
    "        disease_snp_indices.append(snp)\n",
    "    effect_sizes = simulate_effect_sizes(len(disease_snps))\n",
    "    return disease_snp_indices, non_causal_snps, effect_sizes\n",
    "hypertension_disease_snp_indices, hypertension_non_causal_snps, hypertension_effect_sizes = get_disease_snp_indices(\"hypertension\")\n",
    "t1d_disease_snp_indices, t1d_non_causal_snps, t1d_effect_sizes = get_disease_snp_indices(\"t1d\")"
   ]
  },
  {
   "cell_type": "code",
   "execution_count": 40,
   "metadata": {},
   "outputs": [],
   "source": [
    "# compute_var\n",
    "# input: array X\n",
    "# output: variance of X\n",
    "def compute_var(X):\n",
    "    var = 0\n",
    "    mean_X = np.mean(X)\n",
    "    for i in X:\n",
    "        var += ((i - mean_X) ** 2)\n",
    "    var /= len(X)\n",
    "    return var\n",
    "\n",
    "# compute_cov\n",
    "# input: arrays X and Y\n",
    "# output: covariance of X and Y\n",
    "def compute_cov(X, Y): \n",
    "    cov = 0\n",
    "    mean_X = np.mean(X)\n",
    "    mean_Y = np.mean(Y)\n",
    "    for i, j in zip(X,Y):\n",
    "        cov += (i - mean_X) * (j - mean_Y)\n",
    "    cov /= len(X)\n",
    "    return cov\n",
    "    \n",
    "# compute_r2\n",
    "# input: snps dataframe, and boolean variable allow_monomorphic \n",
    "# output: array of r2 values representing the correlation between snp[i] and snp[i+1] where i is an index from 1...len(snps)-1\n",
    "def compute_r2(snps):\n",
    "\n",
    "    r2_array = []\n",
    "    \n",
    "    snp_indices = snps.index\n",
    "    \n",
    "    for i in snp_indices[:-1]: \n",
    "        snp1 = snps.iloc[snp_indices[i]] # subset specific snps\n",
    "        snp2 = snps.iloc[snp_indices[i+1]]\n",
    "    \n",
    "        \n",
    "        snp_cov = compute_cov(snp1, snp2)\n",
    "\n",
    "        \n",
    "        snp1_var = compute_var(snp1)\n",
    "        snp2_var = compute_var(snp2)\n",
    "        \n",
    "        if snp1_var == 0 or snp2_var == 0:\n",
    "            continue\n",
    "        \n",
    "        r2 = (snp_cov**2) / (snp1_var * snp2_var)\n",
    "        r2_array.append(r2)\n",
    "    \n",
    "    return r2_array"
   ]
  },
  {
   "cell_type": "code",
   "execution_count": 41,
   "metadata": {},
   "outputs": [],
   "source": [
    "def normalize(X):\n",
    "    X = X.astype(\"float64\")\n",
    "    X[np.where(X == 9)] = 0\n",
    "    p = X.mean(axis=1, keepdims=True).filled(-1) / 2\n",
    "    X = (X - 2*p) / np.sqrt((2*p*(1-p)))\n",
    "    return X"
   ]
  },
  {
   "cell_type": "code",
   "execution_count": 42,
   "metadata": {},
   "outputs": [
    {
     "name": "stdout",
     "output_type": "stream",
     "text": [
      "The average χ^2 for the causal SNPs is 1.8236944132848507\n",
      "The average χ^2 for the null SNPs is 1.1599266649007263\n",
      "The average χ^2 for all SNPs is 1.2263034397391388\n",
      "\n",
      "The expected average χ^2 value for the causal SNPs is 1.2784090909090908\n",
      "The expected average χ^2 value for the null SNPs is 1\n",
      "The expected average χ^2 value for all SNPs is 1.027840909090909\n",
      "The average χ^2 for the causal SNPs is 1.0205953744742862\n",
      "The average χ^2 for the null SNPs is 0.9739901986995224\n",
      "The average χ^2 for all SNPs is 0.9786507162769987\n",
      "\n",
      "The expected average χ^2 value for the causal SNPs is 1.1454005934718101\n",
      "The expected average χ^2 value for the null SNPs is 1\n",
      "The expected average χ^2 value for all SNPs is 1.014540059347181\n"
     ]
    }
   ],
   "source": [
    "def normal_prs(geno_data, indices, num_causal, effect_sizes):\n",
    "    X = normalize(geno_data[indices])\n",
    "    \n",
    "    simulated_phenotypes = np.dot(effect_sizes[0], X)\n",
    "    N = np.shape(X)[1]\n",
    "    atts = []\n",
    "    p_vals = []\n",
    "    for i, snp in enumerate(X):\n",
    "        r2_df = pd.DataFrame({0: snp, 1: simulated_phenotypes})\n",
    "        r2 = np.mean(compute_r2(r2_df.T))\n",
    "        att = N * r2\n",
    "        atts.append(att)\n",
    "        p_vals.append(ss.chi2.sf(att,1))\n",
    "    print(f\"The average χ^2 for the causal SNPs is {np.mean(atts[:num_causal])}\")   \n",
    "    print(f\"The average χ^2 for the null SNPs is {np.mean(atts[num_causal:])}\")   \n",
    "    print(f\"The average χ^2 for all SNPs is {np.mean(atts)}\")\n",
    "    print()\n",
    "    print(f\"The expected average χ^2 value for the causal SNPs is {1 + ((1 * N) / num_causal)}\")\n",
    "    print(f\"The expected average χ^2 value for the null SNPs is 1\")\n",
    "    print(f\"The expected average χ^2 value for all SNPs is {1 + ((1 * N) / len(indices))}\")\n",
    "    return atts, p_vals\n",
    "\n",
    "t1d_normal_asw_atts, t1d_normal_asw_p_vals = normal_prs(asw_geno, t1d_disease_snp_indices, len(t1d_disease_snp_indices) - len(t1d_non_causal_snps),  t1d_effect_sizes)\n",
    "hypertension_normal_asw_atts, hypertension_normal_asw_p_vals = normal_prs(asw_geno, hypertension_disease_snp_indices, len(hypertension_disease_snp_indices) - len(hypertension_non_causal_snps),  hypertension_effect_sizes)"
   ]
  },
  {
   "cell_type": "code",
   "execution_count": null,
   "metadata": {},
   "outputs": [
    {
     "name": "stdout",
     "output_type": "stream",
     "text": [
      "The average χ^2 for the causal SNPs is 1.0246126584745683\n",
      "The average χ^2 for the null SNPs is 1.064018672026413\n",
      "The average χ^2 for all SNPs is 1.0600780706712287\n",
      "\n",
      "The expected average χ^2 value for the causal SNPs is 1.2784090909090908\n",
      "The expected average χ^2 value for the null SNPs is 1\n",
      "The expected average χ^2 value for all SNPs is 1.027840909090909\n",
      "The average χ^2 for the causal SNPs is 1.0892541100606352\n",
      "The average χ^2 for the null SNPs is 1.0739392575128917\n",
      "The average χ^2 for all SNPs is 1.0754707427676662\n",
      "\n",
      "The expected average χ^2 value for the causal SNPs is 1.1454005934718101\n",
      "The expected average χ^2 value for the null SNPs is 1\n",
      "The expected average χ^2 value for all SNPs is 1.014540059347181\n"
     ]
    },
    {
     "ename": "",
     "evalue": "",
     "output_type": "error",
     "traceback": [
      "\u001b[1;31mThe Kernel crashed while executing code in the current cell or a previous cell. \n",
      "\u001b[1;31mPlease review the code in the cell(s) to identify a possible cause of the failure. \n",
      "\u001b[1;31mClick <a href='https://aka.ms/vscodeJupyterKernelCrash'>here</a> for more info. \n",
      "\u001b[1;31mView Jupyter <a href='command:jupyter.viewOutput'>log</a> for further details."
     ]
    }
   ],
   "source": [
    "def gaudi_prs(geno_data, geno_data1, geno_data2, anc_data1, anc_data2, indices, num_causal, effect_sizes):\n",
    "    X = normalize(geno_data[indices])\n",
    "    X1 = normalize(geno_data1[indices])\n",
    "    X2 = normalize(geno_data2[indices])\n",
    "    \n",
    "\n",
    "    A1 = anc_data1[indices]\n",
    "    A2 = anc_data2[indices]\n",
    "    \n",
    "    B1 = effect_sizes[0]\n",
    "    B2 = effect_sizes[1]\n",
    "    \n",
    "    A1_pop1 = 1 - A1 # array is 1 if locus i is part of pop1 for individual j at haplotype 1\n",
    "    A1_pop2 = A1  # array is 1 if locus is part of pop2 for individual j at haplotype 1\n",
    "    A2_pop1 = 1 - A2\n",
    "    A2_pop2 = A2\n",
    "    \n",
    "\n",
    "    term1 = X1 * A1_pop1\n",
    "    term2 = X2 * A2_pop1\n",
    "    \n",
    "    term3 = X1 * A1_pop2\n",
    "    term4 = X2 * A2_pop2\n",
    "    \n",
    "    \n",
    "    sum_pop1 = term1 + term2\n",
    "    sum_pop2 = term3 + term4\n",
    "    \n",
    "    \n",
    "    simulated_phenotypes = np.dot(B1, sum_pop1) + np.dot(B2, sum_pop2)\n",
    "    N = np.shape(X)[1]\n",
    "    atts = []\n",
    "    p_vals = []\n",
    "    for i, snp in enumerate(X):\n",
    "\n",
    "        r2_df = pd.DataFrame({0: snp, 1: simulated_phenotypes})\n",
    "        r2 = np.mean(compute_r2(r2_df.T))\n",
    "        att = N * r2\n",
    "        atts.append(att)\n",
    "        p_vals.append(ss.chi2.sf(att, 1))\n",
    "    print(f\"The average χ^2 for the causal SNPs is {np.mean(atts[:num_causal])}\")   \n",
    "    print(f\"The average χ^2 for the null SNPs is {np.mean(atts[num_causal:])}\")   \n",
    "    print(f\"The average χ^2 for all SNPs is {np.mean(atts)}\")\n",
    "    print()\n",
    "    print(f\"The expected average χ^2 value for the causal SNPs is {1 + ((1 * N) / num_causal)}\")\n",
    "    print(f\"The expected average χ^2 value for the null SNPs is 1\")\n",
    "    print(f\"The expected average χ^2 value for all SNPs is {1 + ((1 * N) / len(indices))}\")\n",
    "    return atts, p_vals\n",
    "\n",
    "# np.save(\"hypertension_effect_sizes.npy\", hypertension_effect_sizes)\n",
    "# np.save(\"t1d_effect_sizes.npy\", t1d_effect_sizes)\n",
    "t1d_gaudi_asw_atts, t1d_gaudi_asw_p_vals = gaudi_prs(asw_geno, asw_geno1, asw_geno2, asw_ancs1, asw_ancs2, t1d_disease_snp_indices, len(t1d_disease_snp_indices) - len(t1d_non_causal_snps),  t1d_effect_sizes)\n",
    "hypertension_gaudi_asw_atts, hypertension_gaudi_asw_p_vals = gaudi_prs(asw_geno, asw_geno1, asw_geno2, asw_ancs1, asw_ancs2, hypertension_disease_snp_indices, len(hypertension_disease_snp_indices) - len(hypertension_non_causal_snps),  hypertension_effect_sizes)\n",
    "\n"
   ]
  },
  {
   "cell_type": "markdown",
   "metadata": {},
   "source": [
    "### TYPE 1 DIABETES GAUDI CHI 2 HISTOGRAM - ASW DATA"
   ]
  },
  {
   "cell_type": "code",
   "execution_count": null,
   "metadata": {},
   "outputs": [
    {
     "name": "stdout",
     "output_type": "stream",
     "text": [
      "The observed average χ^2 for the type 1 diabetes causal SNPs is 1.0246126584745683\n",
      "The observed average χ^2 for the type 1 diabetes null SNPs is 1.064018672026413\n",
      "The observed average χ^2 for the type 1 diabetes all SNPs is 1.0600780706712287\n",
      "The expected average χ^2 for the type 1 diabetes causal SNPs is 1.2784090909090908\n",
      "The expected average χ^2 for the type 1 diabetes null SNPs is 1\n",
      "The expected average χ^2 for the type 1 diabetes all SNPs is 1.027840909090909\n",
      "\n"
     ]
    },
    {
     "data": {
      "image/png": "[encoded data removed]",
      "text/plain": [
       "<Figure size 1000x600 with 1 Axes>"
      ]
     },
     "metadata": {},
     "output_type": "display_data"
    }
   ],
   "source": [
    "N = np.shape(asw_geno)[1]\n",
    "\n",
    "t1d_num_causal = len(t1d_disease_snp_indices) - len(t1d_non_causal_snps)\n",
    "t1d_gaudi_asw_obs_att_causal = np.mean(t1d_gaudi_asw_atts[:t1d_num_causal])\n",
    "t1d_gaudi_asw_obs_att_null = np.mean(t1d_gaudi_asw_atts[t1d_num_causal:])\n",
    "t1d_gaudi_asw_obs_att_all = np.mean(t1d_gaudi_asw_atts)\n",
    "\n",
    "t1d_gaudi_asw_exp_att_causal = 1 + ((1 * N) / t1d_num_causal)\n",
    "t1d_gaudi_asw_exp_att_null = 1\n",
    "t1d_gaudi_asw_exp_att_all = 1 + ((1 * N) / len(t1d_disease_snp_indices))\n",
    "\n",
    "print(f\"The observed average χ^2 for the type 1 diabetes causal SNPs is {t1d_gaudi_asw_obs_att_causal}\")\n",
    "print(f\"The observed average χ^2 for the type 1 diabetes null SNPs is {t1d_gaudi_asw_obs_att_null}\")\n",
    "print(f\"The observed average χ^2 for the type 1 diabetes all SNPs is {t1d_gaudi_asw_obs_att_all}\")\n",
    "\n",
    "print(f\"The expected average χ^2 for the type 1 diabetes causal SNPs is {t1d_gaudi_asw_exp_att_causal}\")\n",
    "print(f\"The expected average χ^2 for the type 1 diabetes null SNPs is {t1d_gaudi_asw_exp_att_null}\")\n",
    "print(f\"The expected average χ^2 for the type 1 diabetes all SNPs is {t1d_gaudi_asw_exp_att_all}\")\n",
    "print()\n",
    "\n",
    "# plotting barplot\n",
    "fig, ax = plt.subplots(figsize=(10, 6))\n",
    "ax.tick_params(\n",
    "    bottom=False,\n",
    "    labelbottom=False\n",
    ")\n",
    "\n",
    "x = np.arange(1)\n",
    "\n",
    "y1 = [t1d_gaudi_asw_exp_att_causal]\n",
    "y2 = [t1d_gaudi_asw_obs_att_causal]\n",
    "y3 = [t1d_gaudi_asw_exp_att_null]\n",
    "y4 = [t1d_gaudi_asw_obs_att_null]\n",
    "y5 = [t1d_gaudi_asw_exp_att_all]\n",
    "y6 = [t1d_gaudi_asw_obs_att_all]\n",
    "\n",
    "\n",
    "ax.bar(x-2.75, y1, width=1.25, edgecolor='black', color=\"blue\",alpha=0.4, label=\"Expected\")\n",
    "ax.bar(x-1.5, y2, width=1.25, edgecolor='black', color=\"red\",alpha=0.4, label=\"Observed\")\n",
    "ax.bar(x, y3, width=1.25, edgecolor='black', color=\"blue\",alpha=0.4)\n",
    "ax.bar(x+1.25, y4, width=1.25, edgecolor='black', color=\"red\",alpha=0.4)\n",
    "ax.bar(x+2.75, y5, width=1.25, edgecolor='black', color=\"blue\",alpha=0.4)\n",
    "ax.bar(x+4, y6, width=1.25, edgecolor='black', color=\"red\",alpha=0.4)\n",
    "\n",
    "plt.legend()\n",
    "\n",
    "ax.set_xlabel(\"Causal                                                Null                                                  All\", loc=\"left\")\n",
    "ax.xaxis.set_label_coords(0.15, -0.02)\n",
    "ax.set_ylabel(\"Avg χ2\")\n",
    "plt.show()\n",
    "# plt.bar(x+0.1, y2, width)"
   ]
  },
  {
   "cell_type": "markdown",
   "metadata": {},
   "source": [
    "### HYPERTENSION GAUDI CHI 2 HISTOGRAM - ASW DATA"
   ]
  },
  {
   "cell_type": "code",
   "execution_count": 45,
   "metadata": {},
   "outputs": [
    {
     "name": "stdout",
     "output_type": "stream",
     "text": [
      "The observed average χ^2 for the hypertension causal SNPs is 1.0892541100606352\n",
      "The observed average χ^2 for the hypertension null SNPs is 1.0739392575128917\n",
      "The observed average χ^2 for all hypertension the SNPs is 1.0754707427676662\n",
      "The expected average χ^2 for the hypertension causal SNPs is 1.1454005934718101\n",
      "The expected average χ^2 for the hypertension null SNPs is 1\n",
      "The expected average χ^2 for all hypertension the SNPs is 1.014540059347181\n",
      "\n"
     ]
    },
    {
     "data": {
      "image/png": "[encoded data removed]",
      "text/plain": [
       "<Figure size 1000x600 with 1 Axes>"
      ]
     },
     "metadata": {},
     "output_type": "display_data"
    }
   ],
   "source": [
    "N = np.shape(asw_geno)[1]\n",
    "\n",
    "hypertension_num_causal = len(hypertension_disease_snp_indices) - len(hypertension_non_causal_snps)\n",
    "hypertension_gaudi_asw_obs_att_causal = np.mean(hypertension_gaudi_asw_atts[:hypertension_num_causal])\n",
    "hypertension_gaudi_asw_obs_att_null = np.mean(hypertension_gaudi_asw_atts[hypertension_num_causal:])\n",
    "hypertension_gaudi_asw_obs_att_all = np.mean(hypertension_gaudi_asw_atts)\n",
    "\n",
    "hypertension_gaudi_asw_exp_att_causal = 1 + ((1 * N) / hypertension_num_causal)\n",
    "hypertension_gaudi_asw_exp_att_null = 1\n",
    "hypertension_gaudi_asw_exp_att_all = 1 + ((1 * N) / len(hypertension_disease_snp_indices))\n",
    "\n",
    "print(f\"The observed average χ^2 for the hypertension causal SNPs is {hypertension_gaudi_asw_obs_att_causal}\")\n",
    "print(f\"The observed average χ^2 for the hypertension null SNPs is {hypertension_gaudi_asw_obs_att_null}\")\n",
    "print(f\"The observed average χ^2 for all hypertension the SNPs is {hypertension_gaudi_asw_obs_att_all}\")\n",
    "\n",
    "print(f\"The expected average χ^2 for the hypertension causal SNPs is {hypertension_gaudi_asw_exp_att_causal}\")\n",
    "print(f\"The expected average χ^2 for the hypertension null SNPs is {hypertension_gaudi_asw_exp_att_null}\")\n",
    "print(f\"The expected average χ^2 for all hypertension the SNPs is {hypertension_gaudi_asw_exp_att_all}\")\n",
    "print()\n",
    "\n",
    "\n",
    "fig, ax = plt.subplots(figsize=(10, 6))\n",
    "ax.tick_params(\n",
    "    bottom=False,\n",
    "    labelbottom=False\n",
    ")\n",
    "\n",
    "x = np.arange(1)\n",
    "\n",
    "y1 = [hypertension_gaudi_asw_exp_att_causal]\n",
    "y2 = [hypertension_gaudi_asw_obs_att_causal]\n",
    "y3 = [hypertension_gaudi_asw_exp_att_null]\n",
    "y4 = [hypertension_gaudi_asw_obs_att_null]\n",
    "y5 = [hypertension_gaudi_asw_exp_att_all]\n",
    "y6 = [hypertension_gaudi_asw_obs_att_all]\n",
    "\n",
    "ax.bar(x-2.75, y1, width=1.25, edgecolor='black', color=\"blue\",alpha=0.4, label=\"Expected\")\n",
    "ax.bar(x-1.5, y2, width=1.25, edgecolor='black', color=\"red\",alpha=0.4, label=\"Observed\")\n",
    "ax.bar(x, y3, width=1.25, edgecolor='black', color=\"blue\",alpha=0.4)\n",
    "ax.bar(x+1.25, y4, width=1.25, edgecolor='black', color=\"red\",alpha=0.4)\n",
    "ax.bar(x+2.75, y5, width=1.25, edgecolor='black', color=\"blue\",alpha=0.4)\n",
    "ax.bar(x+4, y6, width=1.25, edgecolor='black', color=\"red\",alpha=0.4)\n",
    "\n",
    "ax.legend()\n",
    "\n",
    "ax.set_xlabel(\"  Causal                                              Null                                                  All\", loc=\"left\")\n",
    "ax.xaxis.set_label_coords(0.15, -0.02)\n",
    "ax.set_ylabel(\"Avg χ2\")\n",
    "plt.show()"
   ]
  },
  {
   "cell_type": "markdown",
   "metadata": {},
   "source": [
    "### TYPE 1 DIABETES NORMAL PRS CHI 2 HISTOGRAM - ASW"
   ]
  },
  {
   "cell_type": "code",
   "execution_count": 46,
   "metadata": {},
   "outputs": [
    {
     "name": "stdout",
     "output_type": "stream",
     "text": [
      "The observed average χ^2 for the type 1 diabetes causal SNPs is 1.8236944132848507\n",
      "The observed average χ^2 for the type 1 diabetes null SNPs is 1.1599266649007263\n",
      "The observed average χ^2 for the type 1 diabetes all SNPs is 1.2263034397391388\n",
      "The expected average χ^2 for the type 1 diabetes causal SNPs is 1.2784090909090908\n",
      "The expected average χ^2 for the type 1 diabetes null SNPs is 1\n",
      "The expected average χ^2 for the type 1 diabetes all SNPs is 1.027840909090909\n",
      "\n"
     ]
    },
    {
     "data": {
      "image/png": "[encoded data removed]",
      "text/plain": [
       "<Figure size 1000x600 with 1 Axes>"
      ]
     },
     "metadata": {},
     "output_type": "display_data"
    }
   ],
   "source": [
    "N = np.shape(asw_geno)[1]\n",
    "\n",
    "t1d_num_causal = len(t1d_disease_snp_indices) - len(t1d_non_causal_snps)\n",
    "t1d_normal_asw_obs_att_causal = np.mean(t1d_normal_asw_atts[:t1d_num_causal])\n",
    "t1d_normal_asw_obs_att_null = np.mean(t1d_normal_asw_atts[t1d_num_causal:])\n",
    "t1d_normal_asw_obs_att_all = np.mean(t1d_normal_asw_atts)\n",
    "\n",
    "t1d_normal_asw_exp_att_causal = 1 + ((1 * N) / t1d_num_causal)\n",
    "t1d_normal_asw_exp_att_null = 1\n",
    "t1d_normal_asw_exp_att_all = 1 + ((1 * N) / len(t1d_disease_snp_indices))\n",
    "\n",
    "print(f\"The observed average χ^2 for the type 1 diabetes causal SNPs is {t1d_normal_asw_obs_att_causal}\")\n",
    "print(f\"The observed average χ^2 for the type 1 diabetes null SNPs is {t1d_normal_asw_obs_att_null}\")\n",
    "print(f\"The observed average χ^2 for the type 1 diabetes all SNPs is {t1d_normal_asw_obs_att_all}\")\n",
    "\n",
    "print(f\"The expected average χ^2 for the type 1 diabetes causal SNPs is {t1d_normal_asw_exp_att_causal}\")\n",
    "print(f\"The expected average χ^2 for the type 1 diabetes null SNPs is {t1d_normal_asw_exp_att_null}\")\n",
    "print(f\"The expected average χ^2 for the type 1 diabetes all SNPs is {t1d_normal_asw_exp_att_all}\")\n",
    "print()\n",
    "\n",
    "# plotting barplot\n",
    "fig, ax = plt.subplots(figsize=(10, 6))\n",
    "ax.tick_params(\n",
    "    bottom=False,\n",
    "    labelbottom=False\n",
    ")\n",
    "\n",
    "x = np.arange(1)\n",
    "\n",
    "y1 = [t1d_normal_asw_exp_att_causal]\n",
    "y2 = [t1d_normal_asw_obs_att_causal]\n",
    "y3 = [t1d_normal_asw_exp_att_null]\n",
    "y4 = [t1d_normal_asw_obs_att_null]\n",
    "y5 = [t1d_normal_asw_exp_att_all]\n",
    "y6 = [t1d_normal_asw_obs_att_all]\n",
    "\n",
    "\n",
    "ax.bar(x-2.75, y1, width=1.25, edgecolor='black', color=\"blue\",alpha=0.4, label=\"Expected\")\n",
    "ax.bar(x-1.5, y2, width=1.25, edgecolor='black', color=\"red\",alpha=0.4, label=\"Observed\")\n",
    "ax.bar(x, y3, width=1.25, edgecolor='black', color=\"blue\",alpha=0.4)\n",
    "ax.bar(x+1.25, y4, width=1.25, edgecolor='black', color=\"red\",alpha=0.4)\n",
    "ax.bar(x+2.75, y5, width=1.25, edgecolor='black', color=\"blue\",alpha=0.4)\n",
    "ax.bar(x+4, y6, width=1.25, edgecolor='black', color=\"red\",alpha=0.4)\n",
    "\n",
    "plt.legend()\n",
    "\n",
    "ax.set_xlabel(\"Causal                                                Null                                                  All\", loc=\"left\")\n",
    "ax.xaxis.set_label_coords(0.15, -0.02)\n",
    "ax.set_ylabel(\"Avg χ2\")\n",
    "plt.show()\n",
    "# plt.bar(x+0.1, y2, width)"
   ]
  },
  {
   "cell_type": "markdown",
   "metadata": {},
   "source": [
    "### HYPERTENSION NORMAL PRS CHI 2 HISTOGRAM - ASW"
   ]
  },
  {
   "cell_type": "code",
   "execution_count": 47,
   "metadata": {},
   "outputs": [
    {
     "name": "stdout",
     "output_type": "stream",
     "text": [
      "The observed average χ^2 for the type 1 diabetes causal SNPs is 1.0205953744742862\n",
      "The observed average χ^2 for the type 1 diabetes null SNPs is 0.9739901986995224\n",
      "The observed average χ^2 for the type 1 diabetes all SNPs is 0.9786507162769987\n",
      "The expected average χ^2 for the type 1 diabetes causal SNPs is 1.1454005934718101\n",
      "The expected average χ^2 for the type 1 diabetes null SNPs is 1\n",
      "The expected average χ^2 for the type 1 diabetes all SNPs is 1.014540059347181\n",
      "\n"
     ]
    },
    {
     "data": {
      "image/png": "[encoded data removed]",
      "text/plain": [
       "<Figure size 1000x600 with 1 Axes>"
      ]
     },
     "metadata": {},
     "output_type": "display_data"
    }
   ],
   "source": [
    "N = np.shape(asw_geno)[1]\n",
    "\n",
    "hypertension_num_causal = len(hypertension_disease_snp_indices) - len(hypertension_non_causal_snps)\n",
    "hypertension_normal_asw_obs_att_causal = np.mean(hypertension_normal_asw_atts[:hypertension_num_causal])\n",
    "hypertension_normal_asw_obs_att_null = np.mean(hypertension_normal_asw_atts[hypertension_num_causal:])\n",
    "hypertension_normal_asw_obs_att_all = np.mean(hypertension_normal_asw_atts)\n",
    "\n",
    "hypertension_normal_asw_exp_att_causal = 1 + ((1 * N) / hypertension_num_causal)\n",
    "hypertension_normal_asw_exp_att_null = 1\n",
    "hypertension_normal_asw_exp_att_all = 1 + ((1 * N) / len(hypertension_disease_snp_indices))\n",
    "\n",
    "print(f\"The observed average χ^2 for the type 1 diabetes causal SNPs is {hypertension_normal_asw_obs_att_causal}\")\n",
    "print(f\"The observed average χ^2 for the type 1 diabetes null SNPs is {hypertension_normal_asw_obs_att_null}\")\n",
    "print(f\"The observed average χ^2 for the type 1 diabetes all SNPs is {hypertension_normal_asw_obs_att_all}\")\n",
    "\n",
    "print(f\"The expected average χ^2 for the type 1 diabetes causal SNPs is {hypertension_normal_asw_exp_att_causal}\")\n",
    "print(f\"The expected average χ^2 for the type 1 diabetes null SNPs is {hypertension_normal_asw_exp_att_null}\")\n",
    "print(f\"The expected average χ^2 for the type 1 diabetes all SNPs is {hypertension_normal_asw_exp_att_all}\")\n",
    "print()\n",
    "\n",
    "# plotting barplot\n",
    "fig, ax = plt.subplots(figsize=(10, 6))\n",
    "ax.tick_params(\n",
    "    bottom=False,\n",
    "    labelbottom=False\n",
    ")\n",
    "\n",
    "x = np.arange(1)\n",
    "\n",
    "y1 = [hypertension_normal_asw_exp_att_causal]\n",
    "y2 = [hypertension_normal_asw_obs_att_causal]\n",
    "y3 = [hypertension_normal_asw_exp_att_null]\n",
    "y4 = [hypertension_normal_asw_obs_att_null]\n",
    "y5 = [hypertension_normal_asw_exp_att_all]\n",
    "y6 = [hypertension_normal_asw_obs_att_all]\n",
    "\n",
    "\n",
    "ax.bar(x-2.75, y1, width=1.25, edgecolor='black', color=\"blue\",alpha=0.4, label=\"Expected\")\n",
    "ax.bar(x-1.5, y2, width=1.25, edgecolor='black', color=\"red\",alpha=0.4, label=\"Observed\")\n",
    "ax.bar(x, y3, width=1.25, edgecolor='black', color=\"blue\",alpha=0.4)\n",
    "ax.bar(x+1.25, y4, width=1.25, edgecolor='black', color=\"red\",alpha=0.4)\n",
    "ax.bar(x+2.75, y5, width=1.25, edgecolor='black', color=\"blue\",alpha=0.4)\n",
    "ax.bar(x+4, y6, width=1.25, edgecolor='black', color=\"red\",alpha=0.4)\n",
    "\n",
    "plt.legend()\n",
    "\n",
    "ax.set_xlabel(\"Causal                                                Null                                                  All\", loc=\"left\")\n",
    "ax.xaxis.set_label_coords(0.15, -0.02)\n",
    "ax.set_ylabel(\"Avg χ2\")\n",
    "plt.show()\n",
    "# plt.bar(x+0.1, y2, width)"
   ]
  }
 ],
 "metadata": {
  "kernelspec": {
   "display_name": "Python 3",
   "language": "python",
   "name": "python3"
  },
  "language_info": {
   "codemirror_mode": {
    "name": "ipython",
    "version": 3
   },
   "file_extension": ".py",
   "mimetype": "text/x-python",
   "name": "python",
   "nbconvert_exporter": "python",
   "pygments_lexer": "ipython3",
   "version": "3.10.12"
  }
 },
 "nbformat": 4,
 "nbformat_minor": 2
}
