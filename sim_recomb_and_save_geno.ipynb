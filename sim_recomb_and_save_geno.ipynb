{
 "cells": [
  {
   "cell_type": "code",
   "execution_count": 2,
   "metadata": {},
   "outputs": [],
   "source": [
    "from CB_02704 import *\n",
    "path = \"../02704_data\"\n",
    "import numpy as np\n",
    "import matplotlib.pyplot as plt"
   ]
  },
  {
   "cell_type": "code",
   "execution_count": 3,
   "metadata": {},
   "outputs": [],
   "source": [
    "ceu_geno = read_geno_pop(\"ceu\")\n",
    "yri_geno = read_geno_pop(\"yri\")\n",
    "\n",
    "ceu_geno_ch1 = np.ma.filled(ceu_geno, 0)\n",
    "yri_geno_ch1 = np.ma.filled(yri_geno, 0)\n",
    "\n",
    "\n",
    "ceu_snp = read_snp(f\"{path}/ceu.snp\")\n",
    "yri_snp = read_snp(f\"{path}/yri.snp\")"
   ]
  },
  {
   "cell_type": "code",
   "execution_count": null,
   "metadata": {},
   "outputs": [],
   "source": [
    "asw_geno = read_geno_pop(\"asw\")\n",
    "asw_geno = np.ma.filled(asw_geno, 0)\n",
    "asw_snp = read_snp(f\"{path}/asw.snp\")"
   ]
  },
  {
   "cell_type": "code",
   "execution_count": null,
   "metadata": {},
   "outputs": [],
   "source": [
    "np.save(\"geno_files/ceu.npy\", ceu_geno)\n",
    "np.save(\"geno_files/yri.npy\", yri_geno)\n",
    "np.save(\"geno_files/asw.npy\", asw_geno)"
   ]
  },
  {
   "cell_type": "code",
   "execution_count": null,
   "metadata": {},
   "outputs": [],
   "source": [
    "# ceu_geno_ch1 = read_geno_pop_chr(\"ceu\", 1)\n",
    "# yri_geno_ch1 = read_geno_pop_chr(\"yri\", 1)\n",
    "\n",
    "# ceu_geno_ch1 = np.ma.filled(ceu_geno_ch1, 0)\n",
    "# yri_geno_ch1 = np.ma.filled(yri_geno_ch1, 0)\n",
    "\n",
    "# ceu_snp = read_snp(f\"{path}/ceu.snp\")\n",
    "# yri_snp = read_snp(f\"{path}/yri.snp\")\n",
    "\n",
    "# ceu_snp.index = range(0, len(ceu_snp))\n",
    "# yri_snp.index = range(0, len(yri_snp))\n",
    "\n",
    "# ceu_snp_ch1 = ceu_snp[ceu_snp[\"chromosome\"] == 1]\n",
    "# yri_snp_ch1 = yri_snp[yri_snp[\"chromosome\"] == 1]"
   ]
  },
  {
   "cell_type": "code",
   "execution_count": null,
   "metadata": {},
   "outputs": [],
   "source": [
    "print(ceu_snp)"
   ]
  },
  {
   "cell_type": "code",
   "execution_count": null,
   "metadata": {},
   "outputs": [],
   "source": [
    "# use poisson random variable to represent the number of recombination events that occur along the genome\n",
    "# genome_end - genome_start represents the range of possible locations for recombination events\n",
    "# then we sample n_recombination_events uniform random variables to represent each site of recombination\n",
    "\n",
    "def simulate_offspring_genomes(n_offspring, pop1_geno, pop2_geno, snp):\n",
    "    N1 = pop1_geno.shape[1]\n",
    "    N2 = pop2_geno.shape[1]\n",
    "\n",
    "    \n",
    "    start_pos = 0\n",
    "    end_pos = len(pop1_geno)\n",
    "\n",
    "    offspring_genomes = []\n",
    "    current_genome = np.random.randint(2)\n",
    "    for i in range(n_offspring):\n",
    "        \n",
    "        genome_start = snp[\"position\"].iloc[0]\n",
    "        genome_end = snp[\"position\"].iloc[-1]\n",
    "\n",
    "        lambda_ = 0.000001 * (genome_end - genome_start) # adjust n_recombination events\n",
    "\n",
    "        n_recombination_events = np.random.poisson(lam = lambda_, size=1)\n",
    "        recombination_sites = np.array(np.floor(np.random.uniform(genome_start, genome_end, n_recombination_events)) % len(pop1_geno), dtype=int)\n",
    "        recombination_sites = sorted(recombination_sites)\n",
    "        \n",
    "        \n",
    "        \n",
    "        offspring_genome = np.array([])\n",
    "        \n",
    "        mate1 = np.random.randint(0, N1)\n",
    "        mate2 = np.random.randint(0, N2)\n",
    "        \n",
    "        \n",
    "        current_pos = start_pos\n",
    "        \n",
    "        for site in recombination_sites:\n",
    "            if current_genome == 0:\n",
    "                offspring_genome = np.append(offspring_genome, pop1_geno[current_pos:site, mate1])\n",
    "                current_pos = site\n",
    "                current_genome = 1\n",
    "            elif current_genome == 1:\n",
    "                offspring_genome = np.append(offspring_genome, pop2_geno[current_pos:site, mate2])\n",
    "                current_pos = site\n",
    "                current_genome = 0\n",
    "        if current_genome == 0:\n",
    "            offspring_genome = np.append(offspring_genome, pop1_geno[site:len(pop1_geno), mate1])\n",
    "        elif current_genome == 1:\n",
    "            offspring_genome = np.append(offspring_genome, pop2_geno[site:len(pop2_geno), mate2])\n",
    "        offspring_genomes.append(offspring_genome)\n",
    "    return offspring_genomes\n",
    "\n",
    "simulated_genomes = simulate_offspring_genomes(150, ceu_geno, yri_geno, ceu_snp)\n",
    "simulated_genomes = np.array(simulated_genomes, dtype=np.int).T\n",
    "print(simulated_genomes.shape)"
   ]
  },
  {
   "cell_type": "code",
   "execution_count": null,
   "metadata": {},
   "outputs": [],
   "source": [
    "np.save(\"geno_files/sim_geno.npy\", simulated_genomes)"
   ]
  },
  {
   "cell_type": "code",
   "execution_count": null,
   "metadata": {},
   "outputs": [],
   "source": [
    "def calc_allele_freq(geno):\n",
    "    return np.sum(geno) / (2*len(geno))\n",
    "\n",
    "\n",
    "def two_pop_allele_freqs(pop1_geno, pop2_geno):\n",
    "    freq_array = np.empty(2, dtype=int)\n",
    "    \n",
    "    for i in range(len(pop1_geno)):\n",
    "        pop1_freq = calc_allele_freq(pop1_geno[i])\n",
    "        pop2_freq = calc_allele_freq(pop2_geno[i])\n",
    "        \n",
    "        freq_array = np.vstack((freq_array, [pop1_freq, pop2_freq]))\n",
    "    freq_array = freq_array[1:]\n",
    "    return freq_array\n",
    "\n",
    "def compute_snp_pops(sim_pop_geno, freq_array):\n",
    "    snp_belongs_to = []\n",
    "    for i in range(len(sim_pop_geno)):\n",
    "        sim_pop_freq = calc_allele_freq(sim_pop_geno[i])\n",
    "        if sim_pop_freq > 0.5:\n",
    "            snp_belongs_to.append(np.argmax(freq_array[i]))\n",
    "        else:\n",
    "            snp_belongs_to.append(np.argmin(freq_array[i]))\n",
    "    return snp_belongs_to\n"
   ]
  },
  {
   "cell_type": "code",
   "execution_count": null,
   "metadata": {},
   "outputs": [],
   "source": [
    "\n",
    "freq_array = two_pop_allele_freqs(ceu_geno_ch1, yri_geno_ch1)\n",
    "\n",
    "simulated_snp_pops = compute_snp_pops(simulated_genomes, freq_array)\n",
    "simulated_snp_pops = sorted(simulated_snp_pops)"
   ]
  }
 ],
 "metadata": {
  "kernelspec": {
   "display_name": "Python 3",
   "language": "python",
   "name": "python3"
  },
  "language_info": {
   "codemirror_mode": {
    "name": "ipython",
    "version": 3
   },
   "file_extension": ".py",
   "mimetype": "text/x-python",
   "name": "python",
   "nbconvert_exporter": "python",
   "pygments_lexer": "ipython3",
   "version": "3.10.12"
  }
 },
 "nbformat": 4,
 "nbformat_minor": 2
}
