{
 "cells": [
  {
   "cell_type": "code",
   "execution_count": 2,
   "metadata": {},
   "outputs": [],
   "source": [
    "from CB_02704 import *\n",
    "path = \"../02704_data\"\n",
    "import numpy as np"
   ]
  },
  {
   "cell_type": "code",
   "execution_count": 3,
   "metadata": {},
   "outputs": [],
   "source": [
    "ceu_geno = read_geno(f\"{path}/ceu.geno\")\n",
    "ceu_snp = read_snp(f\"{path}/ceu.snp\")\n",
    "yri_geno = read_geno(f\"{path}/yri.geno\")\n",
    "yri_snp = read_snp(f\"{path}/yri.snp\")"
   ]
  },
  {
   "cell_type": "code",
   "execution_count": 4,
   "metadata": {},
   "outputs": [
    {
     "name": "stdout",
     "output_type": "stream",
     "text": [
      "742584 154582606\n",
      "[1005490.33986928]\n",
      "[32225, 36291, 44529, 45664, 47761, 52003, 58057, 63762, 66692, 72694, 73721, 86283, 86444, 96151, 100807, 107363, 107524, 112626, 120277, 120969, 121036, 122698, 123563, 125701, 137737, 140732, 145385, 153120, 158353, 160063, 164704, 165527, 172890, 174953, 177666, 180803, 183535, 183612, 185430, 185691, 187702, 193805, 198407, 204424, 206008, 211843, 212206, 215084, 216192, 216623, 219186, 229993, 238543, 239036, 253916, 254236, 255808, 262842, 264864, 269269, 273202, 281608, 291169, 291798, 292798, 292957, 300269, 302994, 305479, 309746, 315695, 327372, 331666, 336044, 340282, 343271, 345757, 345788, 346886, 358113, 364822, 366445, 377970, 382173, 387979, 400064, 419009, 420045, 423835, 428908, 442049, 443318, 443706, 444232, 447510, 448508, 449295, 460612, 462193, 462426, 464384, 465605, 477655, 478114, 486629, 490719, 490796, 497721, 498824, 502966, 503854, 509718, 515821, 516596, 523838, 525036, 526341, 531815, 533158, 534247, 538455, 546193, 562277, 570849, 571590, 576363, 578956, 582479, 603663, 616396, 619012, 623993, 624186, 627865, 628844, 630042, 632071, 638895, 640451, 646685, 660278, 666978, 676239, 686262, 687171, 687846, 690594, 695702, 696782, 701937, 701951, 706292, 711602]\n"
     ]
    }
   ],
   "source": [
    "# use poisson random variable to represent the number of recombination events that occur along the genome\n",
    "# genome_end - genome_start represents the range of possible locations for recombination events\n",
    "# then we sample n_recombination_events uniform random variables to represent each site of recombination\n",
    "\n",
    "genome_start = ceu_snp[\"position\"].iloc[0]\n",
    "genome_end = ceu_snp[\"position\"].iloc[-1]\n",
    "print(genome_start, genome_end)\n",
    "\n",
    "lambda_ = 0.000001 * (genome_end - genome_start) # adjust n_recombination events\n",
    "\n",
    "n_recombination_events = np.random.poisson(lam = lambda_, size=1)\n",
    "print((genome_end - genome_start) / n_recombination_events) \n",
    "recombination_sites = np.array(np.floor(np.random.uniform(genome_start, genome_end, n_recombination_events)) % len(ceu_snp), dtype=int)\n",
    "recombination_sites = sorted(recombination_sites)\n",
    "print(recombination_sites)"
   ]
  },
  {
   "cell_type": "code",
   "execution_count": 5,
   "metadata": {},
   "outputs": [
    {
     "name": "stdout",
     "output_type": "stream",
     "text": [
      "718848\n"
     ]
    }
   ],
   "source": [
    "print(len(ceu_geno))"
   ]
  },
  {
   "cell_type": "code",
   "execution_count": 6,
   "metadata": {},
   "outputs": [],
   "source": [
    "ceu_snp.index = range(0, len(ceu_snp))\n",
    "yri_snp.index = range(0, len(yri_snp))"
   ]
  },
  {
   "cell_type": "code",
   "execution_count": 20,
   "metadata": {},
   "outputs": [
    {
     "name": "stdout",
     "output_type": "stream",
     "text": [
      "718848\n",
      "718848\n",
      "718848\n",
      "718848\n",
      "718848\n",
      "718848\n",
      "718848\n",
      "718848\n",
      "718848\n",
      "718848\n",
      "718848\n",
      "718848\n",
      "718848\n",
      "718848\n",
      "718848\n",
      "718848\n",
      "718848\n",
      "718848\n",
      "718848\n",
      "718848\n",
      "718848\n",
      "718848\n",
      "718848\n",
      "718848\n",
      "718848\n",
      "718848\n",
      "718848\n",
      "718848\n",
      "718848\n",
      "718848\n",
      "718848\n",
      "718848\n",
      "718848\n",
      "718848\n",
      "718848\n",
      "718848\n",
      "718848\n",
      "718848\n",
      "718848\n",
      "718848\n",
      "718848\n",
      "718848\n",
      "718848\n",
      "718848\n",
      "718848\n",
      "718848\n",
      "718848\n",
      "718848\n",
      "718848\n",
      "718848\n",
      "718848\n",
      "718848\n",
      "718848\n",
      "718848\n",
      "718848\n",
      "718848\n",
      "718848\n",
      "718848\n",
      "718848\n",
      "718848\n",
      "718848\n",
      "718848\n",
      "718848\n",
      "718848\n",
      "718848\n",
      "718848\n",
      "718848\n",
      "718848\n",
      "718848\n",
      "718848\n",
      "718848\n",
      "718848\n",
      "718848\n",
      "718848\n",
      "718848\n",
      "718848\n",
      "718848\n",
      "718848\n",
      "718848\n",
      "718848\n",
      "718848\n",
      "718848\n",
      "718848\n",
      "718848\n",
      "718848\n",
      "718848\n",
      "718848\n",
      "718848\n",
      "718848\n",
      "718848\n",
      "718848\n",
      "718848\n",
      "718848\n",
      "718848\n",
      "718848\n",
      "718848\n",
      "718848\n",
      "718848\n",
      "718848\n",
      "718848\n",
      "718848\n",
      "718848\n",
      "718848\n",
      "718848\n",
      "718848\n",
      "718848\n",
      "718848\n",
      "718848\n",
      "718848\n",
      "718848\n",
      "718848\n",
      "718848\n",
      "718848\n",
      "718848\n",
      "718848\n",
      "718848\n",
      "718848\n",
      "718848\n",
      "718848\n",
      "718848\n",
      "718848\n",
      "718848\n",
      "718848\n",
      "718848\n",
      "718848\n",
      "718848\n",
      "718848\n",
      "718848\n",
      "718848\n",
      "718848\n",
      "718848\n",
      "718848\n",
      "718848\n",
      "718848\n",
      "718848\n",
      "718848\n",
      "718848\n",
      "718848\n",
      "718848\n",
      "718848\n",
      "718848\n",
      "718848\n",
      "718848\n",
      "718848\n",
      "718848\n",
      "718848\n",
      "718848\n",
      "718848\n",
      "718848\n",
      "718848\n"
     ]
    }
   ],
   "source": [
    "N1 = ceu_geno.shape[1]\n",
    "N2 = yri_geno.shape[1]\n",
    "\n",
    "\n",
    "start_pos = 0\n",
    "end_pos = len(ceu_geno)\n",
    "\n",
    "n_offspring = 150\n",
    "\n",
    "\n",
    "\n",
    "offspring_genomes = []\n",
    "current_genome = 0\n",
    "for i in range(n_offspring):\n",
    "    offspring_genome = np.array([])\n",
    "    \n",
    "    mate1 = np.random.randint(0, N1)\n",
    "    mate2 = np.random.randint(0, N2)\n",
    "    \n",
    "    mate1_geno = ceu_geno[:, mate1]\n",
    "    mate2_geno = yri_geno[:, mate2]\n",
    "    \n",
    "    current_pos = start_pos\n",
    "    \n",
    "    for site in recombination_sites:\n",
    "        if current_genome == 0:\n",
    "            offspring_genome = np.append(offspring_genome, ceu_geno[current_pos:site, mate1])\n",
    "            current_pos = site\n",
    "            current_genome = 1\n",
    "        elif current_genome == 1:\n",
    "            offspring_genome = np.append(offspring_genome, yri_geno[current_pos:site, mate2])\n",
    "            current_pos = site\n",
    "            current_genome = 0\n",
    "    if current_genome == 0:\n",
    "        offspring_genome = np.append(offspring_genome, ceu_geno[site:len(ceu_geno), mate1])\n",
    "    elif current_genome == 1:\n",
    "        offspring_genome = np.append(offspring_genome, yri_geno[site:len(yri_geno), mate2])\n",
    "    offspring_genomes.append(offspring_genome)\n",
    "\n"
   ]
  },
  {
   "cell_type": "code",
   "execution_count": 26,
   "metadata": {},
   "outputs": [
    {
     "name": "stdout",
     "output_type": "stream",
     "text": [
      "(718848, 150)\n"
     ]
    }
   ],
   "source": [
    "simulated_genomes = offspring_genomes\n",
    "simulated_genomes = np.array(simulated_genomes).T\n",
    "print(simulated_genomes.shape)"
   ]
  },
  {
   "cell_type": "code",
   "execution_count": 27,
   "metadata": {},
   "outputs": [],
   "source": [
    "np.save(\"simulated_genomes.npy\", simulated_genomes)"
   ]
  }
 ],
 "metadata": {
  "kernelspec": {
   "display_name": "Python 3",
   "language": "python",
   "name": "python3"
  },
  "language_info": {
   "codemirror_mode": {
    "name": "ipython",
    "version": 3
   },
   "file_extension": ".py",
   "mimetype": "text/x-python",
   "name": "python",
   "nbconvert_exporter": "python",
   "pygments_lexer": "ipython3",
   "version": "3.10.12"
  }
 },
 "nbformat": 4,
 "nbformat_minor": 2
}
