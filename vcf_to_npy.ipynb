{
 "cells": [
  {
   "cell_type": "code",
   "execution_count": null,
   "metadata": {},
   "outputs": [],
   "source": [
    "from CB_02704 import *\n",
    "path = \"../02704_data\"\n",
    "import numpy as np\n",
    "import matplotlib.pyplot as plt\n",
    "import pandas as pd\n",
    "import vcfpy"
   ]
  },
  {
   "cell_type": "markdown",
   "metadata": {},
   "source": [
    "### READ IN TYPE 1 DIABETES SNP INFORMATION"
   ]
  },
  {
   "cell_type": "markdown",
   "metadata": {},
   "source": [
    "### READ IN ALL NECESSARY GENO AND SNP FILES"
   ]
  },
  {
   "cell_type": "code",
   "execution_count": 2,
   "metadata": {},
   "outputs": [],
   "source": [
    "ceu_geno = np.load(\"geno_files/ceu_geno.npy\")\n",
    "yri_geno = np.load(\"geno_files/yri_geno.npy\")\n",
    "asw_geno = np.load(\"geno_files/asw_geno.npy\")\n",
    "sim_geno = np.load(\"geno_files/sim_geno.npy\")\n",
    "sim_geno = np.ma.masked_array(sim_geno)\n",
    "\n",
    "ceu_geno = np.ma.filled(ceu_geno, 0)\n",
    "yri_geno = np.ma.filled(yri_geno, 0)\n",
    "asw_geno = np.ma.filled(asw_geno, 0)\n",
    "\n",
    "ceu_snp = read_snp(f\"{path}/ceu.snp\")\n"
   ]
  },
  {
   "cell_type": "code",
   "execution_count": 3,
   "metadata": {},
   "outputs": [],
   "source": [
    "ceu_snp = ceu_snp.drop_duplicates(subset=\"position\", keep=False)"
   ]
  },
  {
   "cell_type": "code",
   "execution_count": null,
   "metadata": {},
   "outputs": [],
   "source": [
    "print(len(ceu_snp[ceu_snp[\"chromosome\"] == 1]))"
   ]
  },
  {
   "cell_type": "code",
   "execution_count": 5,
   "metadata": {},
   "outputs": [],
   "source": [
    "def get_genos_ancestries_snps(pop):\n",
    "    geno1 = []\n",
    "    geno2 = []\n",
    "    ancs1 = []\n",
    "    ancs2 = []\n",
    "    snps = []\n",
    "    \n",
    "    \n",
    "    for i in range(1, 23):\n",
    "        print(f\"Parsing VCF data for chromosome {i}\")\n",
    "        reader = vcfpy.Reader.from_path(f\"flare_output/{pop}/chromosome{i}/flare.out.anc.vcf\")\n",
    "        for record in reader:\n",
    "            hap1 = []\n",
    "            hap2 = []\n",
    "            \n",
    "            anc1 = []\n",
    "            anc2 = []\n",
    "            \n",
    "            for call in record.calls:\n",
    "                genotype = call.data.get(\"GT\")\n",
    "                genotype = [int(allele) for allele in genotype.split(\"|\")]\n",
    "                hap1.append(genotype[0])\n",
    "                hap2.append(genotype[1])\n",
    "                \n",
    "                anc1.append(int(call.data.get(\"AN1\")))\n",
    "                anc2.append(int(call.data.get(\"AN2\")))\n",
    "                \n",
    "                \n",
    "            geno1.append(hap1)\n",
    "            geno2.append(hap2)\n",
    "            \n",
    "            ancs1.append(anc1)\n",
    "            ancs2.append(anc2)\n",
    "            snps.append(record.ID)\n",
    "            \n",
    "    geno1 = np.array(geno1)\n",
    "    geno2 = np.array(geno2)\n",
    "    ancs1 = np.array(ancs1)\n",
    "    ancs2 = np.array(ancs2)\n",
    "    snps = np.array(snps)\n",
    "    return geno1, geno2, ancs1, ancs2, snps"
   ]
  },
  {
   "cell_type": "code",
   "execution_count": null,
   "metadata": {},
   "outputs": [],
   "source": [
    "asw_geno1, asw_geno2, asw_ancs1, asw_ancs2, asw_snps = get_genos_ancestries_snps(\"asw\")\n",
    "\n",
    "np.save(\"asw_geno1.npy\", asw_geno1)\n",
    "np.save(\"asw_geno2.npy\", asw_geno2)\n",
    "np.save(\"asw_ancs1.npy\", asw_ancs1)\n",
    "np.save(\"asw_ancs2.npy\", asw_ancs2)\n",
    "np.save(\"asw_snps.npy\", asw_snps)"
   ]
  },
  {
   "cell_type": "code",
   "execution_count": null,
   "metadata": {},
   "outputs": [],
   "source": [
    "sim_geno1, sim_geno2, sim_ancs1, sim_ancs2, sim_snps = get_genos_ancestries_snps(\"sim\")\n",
    "np.save(\"sim_geno1.npy\", sim_geno1)\n",
    "np.save(\"sim_geno2.npy\", sim_geno2)\n",
    "np.save(\"sim_ancs1.npy\", sim_ancs1)\n",
    "np.save(\"sim_ancs2.npy\", sim_ancs2)\n",
    "np.save(\"sim_snps.npy\", sim_snps)"
   ]
  }
 ],
 "metadata": {
  "kernelspec": {
   "display_name": "Python 3",
   "language": "python",
   "name": "python3"
  },
  "language_info": {
   "codemirror_mode": {
    "name": "ipython",
    "version": 3
   },
   "file_extension": ".py",
   "mimetype": "text/x-python",
   "name": "python",
   "nbconvert_exporter": "python",
   "pygments_lexer": "ipython3",
   "version": "3.10.12"
  }
 },
 "nbformat": 4,
 "nbformat_minor": 2
}
