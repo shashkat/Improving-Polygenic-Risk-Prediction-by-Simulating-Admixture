{
 "cells": [
  {
   "cell_type": "code",
   "execution_count": null,
   "metadata": {},
   "outputs": [],
   "source": [
    "from CB_02704 import *\n",
    "path = \"../02704_data\"\n",
    "import numpy as np\n",
    "import matplotlib.pyplot as plt\n",
    "import pandas as pd\n",
    "import vcfpy"
   ]
  },
  {
   "cell_type": "markdown",
   "metadata": {},
   "source": [
    "### READ IN TYPE 1 DIABETES SNP INFORMATION"
   ]
  },
  {
   "cell_type": "markdown",
   "metadata": {},
   "source": [
    "### READ IN ALL NECESSARY GENO AND SNP FILES"
   ]
  },
  {
   "cell_type": "code",
   "execution_count": 2,
   "metadata": {},
   "outputs": [],
   "source": [
    "ceu_geno = np.load(\"geno_files/ceu_geno.npy\")\n",
    "yri_geno = np.load(\"geno_files/yri_geno.npy\")\n",
    "asw_geno = np.load(\"geno_files/asw_geno.npy\")\n",
    "sim_geno = np.load(\"geno_files/sim_geno.npy\")\n",
    "sim_geno = np.ma.masked_array(sim_geno)\n",
    "\n",
    "ceu_geno = np.ma.filled(ceu_geno, 0)\n",
    "yri_geno = np.ma.filled(yri_geno, 0)\n",
    "asw_geno = np.ma.filled(asw_geno, 0)\n",
    "\n",
    "ceu_snp = read_snp(f\"{path}/ceu.snp\")\n"
   ]
  },
  {
   "cell_type": "code",
   "execution_count": 3,
   "metadata": {},
   "outputs": [],
   "source": [
    "ceu_snp = ceu_snp.drop_duplicates(subset=\"position\", keep=False)"
   ]
  },
  {
   "cell_type": "code",
   "execution_count": 4,
   "metadata": {},
   "outputs": [
    {
     "name": "stdout",
     "output_type": "stream",
     "text": [
      "55604\n"
     ]
    }
   ],
   "source": [
    "print(len(ceu_snp[ceu_snp[\"chromosome\"] == 1]))"
   ]
  },
  {
   "cell_type": "code",
   "execution_count": 5,
   "metadata": {},
   "outputs": [],
   "source": [
    "def get_genos_ancestries_snps(pop):\n",
    "    geno1 = []\n",
    "    geno2 = []\n",
    "    ancs1 = []\n",
    "    ancs2 = []\n",
    "    snps = []\n",
    "    \n",
    "    \n",
    "    for i in range(1, 23):\n",
    "        print(f\"Parsing VCF data for chromosome {i}\")\n",
    "        reader = vcfpy.Reader.from_path(f\"flare_output/{pop}/chromosome{i}/flare.out.anc.vcf\")\n",
    "        for record in reader:\n",
    "            hap1 = []\n",
    "            hap2 = []\n",
    "            \n",
    "            anc1 = []\n",
    "            anc2 = []\n",
    "            \n",
    "            for call in record.calls:\n",
    "                genotype = call.data.get(\"GT\")\n",
    "                genotype = [int(allele) for allele in genotype.split(\"|\")]\n",
    "                hap1.append(genotype[0])\n",
    "                hap2.append(genotype[1])\n",
    "                \n",
    "                anc1.append(int(call.data.get(\"AN1\")))\n",
    "                anc2.append(int(call.data.get(\"AN2\")))\n",
    "                \n",
    "                \n",
    "            geno1.append(hap1)\n",
    "            geno2.append(hap2)\n",
    "            \n",
    "            ancs1.append(anc1)\n",
    "            ancs2.append(anc2)\n",
    "            snps.append(record.ID)\n",
    "            \n",
    "    geno1 = np.array(geno1)\n",
    "    geno2 = np.array(geno2)\n",
    "    ancs1 = np.array(ancs1)\n",
    "    ancs2 = np.array(ancs2)\n",
    "    snps = np.array(snps)\n",
    "    return geno1, geno2, ancs1, ancs2, snps"
   ]
  },
  {
   "cell_type": "code",
   "execution_count": 6,
   "metadata": {},
   "outputs": [
    {
     "name": "stdout",
     "output_type": "stream",
     "text": [
      "Parsing VCF data for chromosome 1\n",
      "Parsing VCF data for chromosome 2\n"
     ]
    },
    {
     "ename": "KeyboardInterrupt",
     "evalue": "",
     "output_type": "error",
     "traceback": [
      "\u001b[0;31m---------------------------------------------------------------------------\u001b[0m",
      "\u001b[0;31mKeyboardInterrupt\u001b[0m                         Traceback (most recent call last)",
      "Cell \u001b[0;32mIn[6], line 1\u001b[0m\n\u001b[0;32m----> 1\u001b[0m asw_geno1, asw_geno2, asw_ancs1, asw_ancs2, asw_snps \u001b[38;5;241m=\u001b[39m \u001b[43mget_genos_ancestries_snps\u001b[49m\u001b[43m(\u001b[49m\u001b[38;5;124;43m\"\u001b[39;49m\u001b[38;5;124;43masw\u001b[39;49m\u001b[38;5;124;43m\"\u001b[39;49m\u001b[43m)\u001b[49m\n\u001b[1;32m      3\u001b[0m np\u001b[38;5;241m.\u001b[39msave(\u001b[38;5;124m\"\u001b[39m\u001b[38;5;124masw_geno1.npy\u001b[39m\u001b[38;5;124m\"\u001b[39m, asw_geno1)\n\u001b[1;32m      4\u001b[0m np\u001b[38;5;241m.\u001b[39msave(\u001b[38;5;124m\"\u001b[39m\u001b[38;5;124masw_geno2.npy\u001b[39m\u001b[38;5;124m\"\u001b[39m, asw_geno2)\n",
      "Cell \u001b[0;32mIn[5], line 12\u001b[0m, in \u001b[0;36mget_genos_ancestries_snps\u001b[0;34m(pop)\u001b[0m\n\u001b[1;32m     10\u001b[0m \u001b[38;5;28mprint\u001b[39m(\u001b[38;5;124mf\u001b[39m\u001b[38;5;124m\"\u001b[39m\u001b[38;5;124mParsing VCF data for chromosome \u001b[39m\u001b[38;5;132;01m{\u001b[39;00mi\u001b[38;5;132;01m}\u001b[39;00m\u001b[38;5;124m\"\u001b[39m)\n\u001b[1;32m     11\u001b[0m reader \u001b[38;5;241m=\u001b[39m vcfpy\u001b[38;5;241m.\u001b[39mReader\u001b[38;5;241m.\u001b[39mfrom_path(\u001b[38;5;124mf\u001b[39m\u001b[38;5;124m\"\u001b[39m\u001b[38;5;124mflare_output/\u001b[39m\u001b[38;5;132;01m{\u001b[39;00mpop\u001b[38;5;132;01m}\u001b[39;00m\u001b[38;5;124m/chromosome\u001b[39m\u001b[38;5;132;01m{\u001b[39;00mi\u001b[38;5;132;01m}\u001b[39;00m\u001b[38;5;124m/flare.out.anc.vcf\u001b[39m\u001b[38;5;124m\"\u001b[39m)\n\u001b[0;32m---> 12\u001b[0m \u001b[38;5;28;01mfor\u001b[39;00m record \u001b[38;5;129;01min\u001b[39;00m reader:\n\u001b[1;32m     13\u001b[0m     hap1 \u001b[38;5;241m=\u001b[39m []\n\u001b[1;32m     14\u001b[0m     hap2 \u001b[38;5;241m=\u001b[39m []\n",
      "File \u001b[0;32m~/.local/lib/python3.10/site-packages/vcfpy/reader.py:175\u001b[0m, in \u001b[0;36mReader.__next__\u001b[0;34m(self)\u001b[0m\n\u001b[1;32m    173\u001b[0m     \u001b[38;5;28;01mreturn\u001b[39;00m \u001b[38;5;28mself\u001b[39m\u001b[38;5;241m.\u001b[39mparser\u001b[38;5;241m.\u001b[39mparse_line(\u001b[38;5;28mstr\u001b[39m(\u001b[38;5;28mnext\u001b[39m(\u001b[38;5;28mself\u001b[39m\u001b[38;5;241m.\u001b[39mtabix_iter)))\n\u001b[1;32m    174\u001b[0m \u001b[38;5;28;01melse\u001b[39;00m:\n\u001b[0;32m--> 175\u001b[0m     result \u001b[38;5;241m=\u001b[39m \u001b[38;5;28;43mself\u001b[39;49m\u001b[38;5;241;43m.\u001b[39;49m\u001b[43mparser\u001b[49m\u001b[38;5;241;43m.\u001b[39;49m\u001b[43mparse_next_record\u001b[49m\u001b[43m(\u001b[49m\u001b[43m)\u001b[49m\n\u001b[1;32m    176\u001b[0m     \u001b[38;5;28;01mif\u001b[39;00m result \u001b[38;5;129;01mis\u001b[39;00m \u001b[38;5;28;01mNone\u001b[39;00m:\n\u001b[1;32m    177\u001b[0m         \u001b[38;5;28;01mraise\u001b[39;00m \u001b[38;5;167;01mStopIteration\u001b[39;00m()\n",
      "File \u001b[0;32m~/.local/lib/python3.10/site-packages/vcfpy/parser.py:798\u001b[0m, in \u001b[0;36mParser.parse_next_record\u001b[0;34m(self)\u001b[0m\n\u001b[1;32m    791\u001b[0m \u001b[38;5;28;01mdef\u001b[39;00m \u001b[38;5;21mparse_next_record\u001b[39m(\u001b[38;5;28mself\u001b[39m):\n\u001b[1;32m    792\u001b[0m \u001b[38;5;250m    \u001b[39m\u001b[38;5;124;03m\"\"\"Read, parse and return next :py:class:`vcfpy.record.Record`\u001b[39;00m\n\u001b[1;32m    793\u001b[0m \n\u001b[1;32m    794\u001b[0m \u001b[38;5;124;03m    :returns: next VCF record or ``None`` if at end\u001b[39;00m\n\u001b[1;32m    795\u001b[0m \u001b[38;5;124;03m    :raises: ``vcfpy.exceptions.InvalidRecordException`` in the case of\u001b[39;00m\n\u001b[1;32m    796\u001b[0m \u001b[38;5;124;03m        problems reading the record\u001b[39;00m\n\u001b[1;32m    797\u001b[0m \u001b[38;5;124;03m    \"\"\"\u001b[39;00m\n\u001b[0;32m--> 798\u001b[0m     \u001b[38;5;28;01mreturn\u001b[39;00m \u001b[38;5;28;43mself\u001b[39;49m\u001b[38;5;241;43m.\u001b[39;49m\u001b[43mparse_line\u001b[49m\u001b[43m(\u001b[49m\u001b[38;5;28;43mself\u001b[39;49m\u001b[38;5;241;43m.\u001b[39;49m\u001b[43m_read_next_line\u001b[49m\u001b[43m(\u001b[49m\u001b[43m)\u001b[49m\u001b[43m)\u001b[49m\n",
      "File \u001b[0;32m~/.local/lib/python3.10/site-packages/vcfpy/parser.py:789\u001b[0m, in \u001b[0;36mParser.parse_line\u001b[0;34m(self, line)\u001b[0m\n\u001b[1;32m    787\u001b[0m \u001b[38;5;28;01mdef\u001b[39;00m \u001b[38;5;21mparse_line\u001b[39m(\u001b[38;5;28mself\u001b[39m, line):\n\u001b[1;32m    788\u001b[0m \u001b[38;5;250m    \u001b[39m\u001b[38;5;124;03m\"\"\"Pare the given line without reading another one from the stream\"\"\"\u001b[39;00m\n\u001b[0;32m--> 789\u001b[0m     \u001b[38;5;28;01mreturn\u001b[39;00m \u001b[38;5;28;43mself\u001b[39;49m\u001b[38;5;241;43m.\u001b[39;49m\u001b[43m_record_parser\u001b[49m\u001b[38;5;241;43m.\u001b[39;49m\u001b[43mparse_line\u001b[49m\u001b[43m(\u001b[49m\u001b[43mline\u001b[49m\u001b[43m)\u001b[49m\n",
      "File \u001b[0;32m~/.local/lib/python3.10/site-packages/vcfpy/parser.py:465\u001b[0m, in \u001b[0;36mRecordParser.parse_line\u001b[0;34m(self, line_str)\u001b[0m\n\u001b[1;32m    463\u001b[0m     format_ \u001b[38;5;241m=\u001b[39m arr[\u001b[38;5;241m8\u001b[39m]\u001b[38;5;241m.\u001b[39msplit(\u001b[38;5;124m\"\u001b[39m\u001b[38;5;124m:\u001b[39m\u001b[38;5;124m\"\u001b[39m)\n\u001b[1;32m    464\u001b[0m     \u001b[38;5;66;03m# sample/call columns\u001b[39;00m\n\u001b[0;32m--> 465\u001b[0m     calls \u001b[38;5;241m=\u001b[39m \u001b[38;5;28;43mself\u001b[39;49m\u001b[38;5;241;43m.\u001b[39;49m\u001b[43m_handle_calls\u001b[49m\u001b[43m(\u001b[49m\u001b[43malts\u001b[49m\u001b[43m,\u001b[49m\u001b[43m \u001b[49m\u001b[43mformat_\u001b[49m\u001b[43m,\u001b[49m\u001b[43m \u001b[49m\u001b[43marr\u001b[49m\u001b[43m[\u001b[49m\u001b[38;5;241;43m8\u001b[39;49m\u001b[43m]\u001b[49m\u001b[43m,\u001b[49m\u001b[43m \u001b[49m\u001b[43marr\u001b[49m\u001b[43m)\u001b[49m\n\u001b[1;32m    466\u001b[0m \u001b[38;5;28;01mreturn\u001b[39;00m record\u001b[38;5;241m.\u001b[39mRecord(chrom, pos, ids, ref, alts, qual, filt, info, format_, calls)\n",
      "File \u001b[0;32m~/.local/lib/python3.10/site-packages/vcfpy/parser.py:477\u001b[0m, in \u001b[0;36mRecordParser._handle_calls\u001b[0;34m(self, alts, format_, format_str, arr)\u001b[0m\n\u001b[1;32m    475\u001b[0m \u001b[38;5;28;01mif\u001b[39;00m \u001b[38;5;28mself\u001b[39m\u001b[38;5;241m.\u001b[39msamples\u001b[38;5;241m.\u001b[39mis_parsed(sample):\n\u001b[1;32m    476\u001b[0m     data \u001b[38;5;241m=\u001b[39m \u001b[38;5;28mself\u001b[39m\u001b[38;5;241m.\u001b[39m_parse_calls_data(format_, \u001b[38;5;28mself\u001b[39m\u001b[38;5;241m.\u001b[39m_format_cache[format_str], raw_data)\n\u001b[0;32m--> 477\u001b[0m     call \u001b[38;5;241m=\u001b[39m \u001b[43mrecord\u001b[49m\u001b[38;5;241;43m.\u001b[39;49m\u001b[43mCall\u001b[49m\u001b[43m(\u001b[49m\u001b[43msample\u001b[49m\u001b[43m,\u001b[49m\u001b[43m \u001b[49m\u001b[43mdata\u001b[49m\u001b[43m)\u001b[49m\n\u001b[1;32m    478\u001b[0m     \u001b[38;5;28mself\u001b[39m\u001b[38;5;241m.\u001b[39m_format_checker\u001b[38;5;241m.\u001b[39mrun(call, \u001b[38;5;28mlen\u001b[39m(alts))\n\u001b[1;32m    479\u001b[0m     \u001b[38;5;28mself\u001b[39m\u001b[38;5;241m.\u001b[39m_check_filters(call\u001b[38;5;241m.\u001b[39mdata\u001b[38;5;241m.\u001b[39mget(\u001b[38;5;124m\"\u001b[39m\u001b[38;5;124mFT\u001b[39m\u001b[38;5;124m\"\u001b[39m), \u001b[38;5;124m\"\u001b[39m\u001b[38;5;124mFORMAT/FT\u001b[39m\u001b[38;5;124m\"\u001b[39m, call\u001b[38;5;241m.\u001b[39msample)\n",
      "File \u001b[0;32m~/.local/lib/python3.10/site-packages/vcfpy/record.py:236\u001b[0m, in \u001b[0;36mCall.__init__\u001b[0;34m(self, sample, data, site)\u001b[0m\n\u001b[1;32m    234\u001b[0m \u001b[38;5;66;03m#: the number of alleles in this sample's call\u001b[39;00m\n\u001b[1;32m    235\u001b[0m \u001b[38;5;28mself\u001b[39m\u001b[38;5;241m.\u001b[39mploidy \u001b[38;5;241m=\u001b[39m \u001b[38;5;28;01mNone\u001b[39;00m\n\u001b[0;32m--> 236\u001b[0m \u001b[38;5;28;43mself\u001b[39;49m\u001b[38;5;241;43m.\u001b[39;49m\u001b[43m_genotype_updated\u001b[49m\u001b[43m(\u001b[49m\u001b[43m)\u001b[49m\n",
      "File \u001b[0;32m~/.local/lib/python3.10/site-packages/vcfpy/record.py:258\u001b[0m, in \u001b[0;36mCall._genotype_updated\u001b[0;34m(self)\u001b[0m\n\u001b[1;32m    256\u001b[0m     \u001b[38;5;28;01melse\u001b[39;00m:\n\u001b[1;32m    257\u001b[0m         \u001b[38;5;28mself\u001b[39m\u001b[38;5;241m.\u001b[39mgt_alleles\u001b[38;5;241m.\u001b[39mappend(\u001b[38;5;28mint\u001b[39m(allele))\n\u001b[0;32m--> 258\u001b[0m \u001b[38;5;28mself\u001b[39m\u001b[38;5;241m.\u001b[39mcalled \u001b[38;5;241m=\u001b[39m \u001b[38;5;28mall\u001b[39m([al \u001b[38;5;129;01mis\u001b[39;00m \u001b[38;5;129;01mnot\u001b[39;00m \u001b[38;5;28;01mNone\u001b[39;00m \u001b[38;5;28;01mfor\u001b[39;00m al \u001b[38;5;129;01min\u001b[39;00m \u001b[38;5;28mself\u001b[39m\u001b[38;5;241m.\u001b[39mgt_alleles])\n\u001b[1;32m    259\u001b[0m \u001b[38;5;28mself\u001b[39m\u001b[38;5;241m.\u001b[39mploidy \u001b[38;5;241m=\u001b[39m \u001b[38;5;28mlen\u001b[39m(\u001b[38;5;28mself\u001b[39m\u001b[38;5;241m.\u001b[39mgt_alleles)\n",
      "File \u001b[0;32m~/.local/lib/python3.10/site-packages/vcfpy/record.py:258\u001b[0m, in \u001b[0;36m<listcomp>\u001b[0;34m(.0)\u001b[0m\n\u001b[1;32m    256\u001b[0m     \u001b[38;5;28;01melse\u001b[39;00m:\n\u001b[1;32m    257\u001b[0m         \u001b[38;5;28mself\u001b[39m\u001b[38;5;241m.\u001b[39mgt_alleles\u001b[38;5;241m.\u001b[39mappend(\u001b[38;5;28mint\u001b[39m(allele))\n\u001b[0;32m--> 258\u001b[0m \u001b[38;5;28mself\u001b[39m\u001b[38;5;241m.\u001b[39mcalled \u001b[38;5;241m=\u001b[39m \u001b[38;5;28mall\u001b[39m([al \u001b[38;5;129;01mis\u001b[39;00m \u001b[38;5;129;01mnot\u001b[39;00m \u001b[38;5;28;01mNone\u001b[39;00m \u001b[38;5;28;01mfor\u001b[39;00m al \u001b[38;5;129;01min\u001b[39;00m \u001b[38;5;28mself\u001b[39m\u001b[38;5;241m.\u001b[39mgt_alleles])\n\u001b[1;32m    259\u001b[0m \u001b[38;5;28mself\u001b[39m\u001b[38;5;241m.\u001b[39mploidy \u001b[38;5;241m=\u001b[39m \u001b[38;5;28mlen\u001b[39m(\u001b[38;5;28mself\u001b[39m\u001b[38;5;241m.\u001b[39mgt_alleles)\n",
      "\u001b[0;31mKeyboardInterrupt\u001b[0m: "
     ]
    }
   ],
   "source": [
    "asw_geno1, asw_geno2, asw_ancs1, asw_ancs2, asw_snps = get_genos_ancestries_snps(\"asw\")\n",
    "\n",
    "np.save(\"asw_geno1.npy\", asw_geno1)\n",
    "np.save(\"asw_geno2.npy\", asw_geno2)\n",
    "np.save(\"asw_ancs1.npy\", asw_ancs1)\n",
    "np.save(\"asw_ancs2.npy\", asw_ancs2)\n",
    "np.save(\"asw_snps.npy\", asw_snps)"
   ]
  },
  {
   "cell_type": "code",
   "execution_count": 7,
   "metadata": {},
   "outputs": [
    {
     "name": "stdout",
     "output_type": "stream",
     "text": [
      "Parsing VCF data for chromosome 1\n",
      "Parsing VCF data for chromosome 2\n",
      "Parsing VCF data for chromosome 3\n",
      "Parsing VCF data for chromosome 4\n",
      "Parsing VCF data for chromosome 5\n",
      "Parsing VCF data for chromosome 6\n"
     ]
    },
    {
     "ename": "",
     "evalue": "",
     "output_type": "error",
     "traceback": [
      "\u001b[1;31mThe Kernel crashed while executing code in the current cell or a previous cell. \n",
      "\u001b[1;31mPlease review the code in the cell(s) to identify a possible cause of the failure. \n",
      "\u001b[1;31mClick <a href='https://aka.ms/vscodeJupyterKernelCrash'>here</a> for more info. \n",
      "\u001b[1;31mView Jupyter <a href='command:jupyter.viewOutput'>log</a> for further details."
     ]
    }
   ],
   "source": [
    "sim_geno1, sim_geno2, sim_ancs1, sim_ancs2, sim_snps = get_genos_ancestries_snps(\"sim\")\n",
    "np.save(\"sim_geno1.npy\", sim_geno1)\n",
    "np.save(\"sim_geno2.npy\", sim_geno2)\n",
    "np.save(\"sim_ancs1.npy\", sim_ancs1)\n",
    "np.save(\"sim_ancs2.npy\", sim_ancs2)\n",
    "np.save(\"sim_snps.npy\", sim_snps)"
   ]
  },
  {
   "cell_type": "code",
   "execution_count": null,
   "metadata": {},
   "outputs": [],
   "source": [
    "print(sim_geno1)"
   ]
  },
  {
   "cell_type": "code",
   "execution_count": null,
   "metadata": {},
   "outputs": [],
   "source": []
  }
 ],
 "metadata": {
  "kernelspec": {
   "display_name": "Python 3",
   "language": "python",
   "name": "python3"
  },
  "language_info": {
   "codemirror_mode": {
    "name": "ipython",
    "version": 3
   },
   "file_extension": ".py",
   "mimetype": "text/x-python",
   "name": "python",
   "nbconvert_exporter": "python",
   "pygments_lexer": "ipython3",
   "version": "3.10.12"
  }
 },
 "nbformat": 4,
 "nbformat_minor": 2
}
