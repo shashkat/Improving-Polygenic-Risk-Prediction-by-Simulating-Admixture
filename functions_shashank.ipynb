{
 "cells": [
  {
   "cell_type": "code",
   "execution_count": 1,
   "metadata": {},
   "outputs": [],
   "source": [
    "from CB_02704 import *"
   ]
  },
  {
   "cell_type": "code",
   "execution_count": null,
   "metadata": {},
   "outputs": [],
   "source": [
    "# PCA function takes in the genotype data (numpy masked array) and computes the PCA for that data\n",
    "def PCA(genotype_array):\n",
    "    # first mean centre (the features, which are snps in this case should have mean zero)\n",
    "\n",
    "    # then compute covariance matrix (it should have dimensions of features x features)\n",
    "\n",
    "    # then compute eigenvalues and eigenvectors of the matrix\n",
    "\n",
    "    # then preform projection of the datapoints in the direction of the two top eigenvectors"
   ]
  },
  {
   "cell_type": "code",
   "execution_count": 2,
   "metadata": {},
   "outputs": [
    {
     "data": {
      "text/plain": [
       "masked_array(\n",
       "  data=[[0, 1, 0, ..., 1, 1, 0],\n",
       "        [1, 1, 0, ..., 1, 1, 0],\n",
       "        [1, 1, 0, ..., 1, 1, 0],\n",
       "        ...,\n",
       "        [0, 1, 0, ..., 0, 0, 0],\n",
       "        [2, 2, 2, ..., 2, 2, 2],\n",
       "        [1, 2, 1, ..., 2, 2, 1]],\n",
       "  mask=[[False, False, False, ..., False, False, False],\n",
       "        [False, False, False, ..., False, False, False],\n",
       "        [False, False, False, ..., False, False, False],\n",
       "        ...,\n",
       "        [False, False, False, ..., False, False, False],\n",
       "        [False, False, False, ..., False, False, False],\n",
       "        [False, False, False, ..., False, False, False]],\n",
       "  fill_value=999999,\n",
       "  dtype=uint8)"
      ]
     },
     "execution_count": 2,
     "metadata": {},
     "output_type": "execute_result"
    }
   ],
   "source": [
    "read_geno_pop_chr('YRI', 1)"
   ]
  }
 ],
 "metadata": {
  "kernelspec": {
   "display_name": "base",
   "language": "python",
   "name": "python3"
  },
  "language_info": {
   "codemirror_mode": {
    "name": "ipython",
    "version": 3
   },
   "file_extension": ".py",
   "mimetype": "text/x-python",
   "name": "python",
   "nbconvert_exporter": "python",
   "pygments_lexer": "ipython3",
   "version": "3.10.13"
  }
 },
 "nbformat": 4,
 "nbformat_minor": 2
}
